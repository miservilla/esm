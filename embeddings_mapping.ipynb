{
 "cells": [
  {
   "cell_type": "code",
   "execution_count": 5,
   "metadata": {},
   "outputs": [],
   "source": [
    "import pandas as pd\n",
    "\n",
    "# Path to the CSV file with embeddings\n",
    "embeddings_csv_path = 'outputs/FASTA_embeddings_20240213.csv'\n",
    "\n",
    "# Load the CSV file. Assuming no header, specify column names manually\n",
    "# The first column is 'TC_Number', followed by embedding dimensions\n",
    "col_names = ['TC_Number'] + [f'dim{i}' for i in range(1, 1281)]\n",
    "embeddings_df = pd.read_csv(embeddings_csv_path, header=None, names=col_names)\n",
    "\n",
    "# Convert the dataframe to a dictionary {TC_Number: embedding_vector}\n",
    "embeddings_dict = embeddings_df.set_index('TC_Number').T.to_dict('list')"
   ]
  },
  {
   "cell_type": "code",
   "execution_count": null,
   "metadata": {},
   "outputs": [],
   "source": [
    "import glob\n",
    "import os\n",
    "\n",
    "# Original directory containing your positive/negative CSV files\n",
    "original_files_dir = 'Positive_Negative/'\n",
    "\n",
    "# New directory to save updated CSV files\n",
    "updated_files_dir = 'Positive_Negative_Mapping/'\n",
    "\n",
    "# Ensure the updated_files_dir exists, create if it doesn't\n",
    "if not os.path.exists(updated_files_dir):\n",
    "    os.makedirs(updated_files_dir)\n",
    "\n",
    "# Iterate over each CSV file in the original directory\n",
    "for csv_file in glob.glob(f'{original_files_dir}*.csv'):\n",
    "    # Load the positive/negative CSV file\n",
    "    pos_neg_df = pd.read_csv(csv_file, header=None, names=['positive', 'negative'])\n",
    "\n",
    "    # Map the 'positive' and 'negative' TC_Numbers to their embeddings\n",
    "    # Here, just storing a placeholder for the embedding reference\n",
    "    pos_neg_df['positive_embedding'] = pos_neg_df['positive'].map(\n",
    "        lambda x: 'Embedding_Ref' if x in embeddings_dict else 'Not Available')\n",
    "    pos_neg_df['negative_embedding'] = pos_neg_df['negative'].map(\n",
    "        lambda x: 'Embedding_Ref' if x in embeddings_dict else 'Not Available')\n",
    "\n",
    "    # Construct the new file path in the updated directory\n",
    "    # os.path.basename(csv_file) gets the file name from the original path\n",
    "    new_file_path = os.path.join(updated_files_dir, os.path.basename(csv_file))\n",
    "\n",
    "    # Save the updated DataFrame to the new file path\n",
    "    pos_neg_df.to_csv(new_file_path, index=False, header=False)\n",
    "\n",
    "    print(f'Updated file saved: {new_file_path}')"
   ]
  },
  {
   "cell_type": "code",
   "execution_count": 5,
   "metadata": {},
   "outputs": [],
   "source": [
    "def convert_to_fasta(input_file, output_file):\n",
    "    with open(input_file, 'r') as infile, open(output_file, 'w') as outfile:\n",
    "        for line in infile:\n",
    "            parts = line.strip().split()  # Split the line into parts based on whitespace\n",
    "            if len(parts) >= 2:  # Make sure there are at least two columns\n",
    "                identifier = parts[0]  # First column is the identifier\n",
    "                sequence = parts[1]  # Second column is the sequence\n",
    "                # Write to output file in FASTA format\n",
    "                outfile.write(f'>{identifier}\\n{sequence}\\n')\n",
    "\n",
    "# Example usage\n",
    "input_file = '/home/miservilla/esm/gene_sequence_homo_sapiens_no_dups.txt'  # The path to your input file\n",
    "output_file = 'gene_sequence_homo_sapiens.fasta'  # The path to your output FASTA file\n",
    "convert_to_fasta(input_file, output_file)\n"
   ]
  },
  {
   "cell_type": "code",
   "execution_count": null,
   "metadata": {},
   "outputs": [],
   "source": [
    "def find_duplicates_txt(input_file):\n",
    "    seen = {}\n",
    "    duplicates = {}\n",
    "    with open(input_file, 'r') as infile:\n",
    "        for line in infile:\n",
    "            identifier = line.strip().split()[0]  # Assuming the identifier is the first item\n",
    "            if identifier in seen:\n",
    "                if identifier in duplicates:\n",
    "                    duplicates[identifier] += 1\n",
    "                else:\n",
    "                    duplicates[identifier] = 2  # Initialize with 2 since it's the first duplicate\n",
    "            else:\n",
    "                seen[identifier] = 1\n",
    "    if duplicates:\n",
    "        print(\"Duplicate identifiers found:\")\n",
    "        for dup, count in duplicates.items():\n",
    "            print(f\"{dup}: {count} times\")\n",
    "        print(f\"Total number of duplicate entries: {sum(duplicates.values())}\")\n",
    "    else:\n",
    "        print(\"No duplicates found.\")\n",
    "\n",
    "# Example usage\n",
    "input_file = '/home/miservilla/esm/gene_sequence_homo_sapiens.txt'  # The path to your input text file\n",
    "find_duplicates_txt(input_file)\n"
   ]
  },
  {
   "cell_type": "code",
   "execution_count": 4,
   "metadata": {},
   "outputs": [],
   "source": [
    "def remove_duplicates_txt(input_file, output_file):\n",
    "    seen = set()\n",
    "    with open(input_file, 'r') as infile, open(output_file, 'w') as outfile:\n",
    "        for line in infile:\n",
    "            identifier = line.strip().split()[0]\n",
    "            if identifier not in seen:\n",
    "                outfile.write(line)\n",
    "                seen.add(identifier)\n",
    "\n",
    "# Example usage\n",
    "input_file = '/home/miservilla/esm/gene_sequence_homo_sapiens.txt'  # Path to your input text file\n",
    "output_file = 'gene_sequence_homo_sapiens_no_dups.txt'  # Path to your output text file without duplicates\n",
    "remove_duplicates_txt(input_file, output_file)\n"
   ]
  }
 ],
 "metadata": {
  "kernelspec": {
   "display_name": "esm2",
   "language": "python",
   "name": "python3"
  },
  "language_info": {
   "codemirror_mode": {
    "name": "ipython",
    "version": 3
   },
   "file_extension": ".py",
   "mimetype": "text/x-python",
   "name": "python",
   "nbconvert_exporter": "python",
   "pygments_lexer": "ipython3",
   "version": "3.8.18"
  }
 },
 "nbformat": 4,
 "nbformat_minor": 2
}
